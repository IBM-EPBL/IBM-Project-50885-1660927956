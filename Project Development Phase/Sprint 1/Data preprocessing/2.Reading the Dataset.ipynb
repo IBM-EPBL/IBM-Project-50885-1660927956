{
 "cells": [
  {
   "cell_type": "markdown",
   "id": "3a4d3a72",
   "metadata": {},
   "source": [
    "## University admit eligibility predictor"
   ]
  },
  {
   "cell_type": "markdown",
   "id": "61df0d17",
   "metadata": {},
   "source": [
    "## Data preprocessing"
   ]
  },
  {
   "cell_type": "markdown",
   "id": "c5e9e070",
   "metadata": {},
   "source": [
    "# importing the libraries "
   ]
  },
  {
   "cell_type": "code",
   "execution_count": 2,
   "id": "57f99cb4",
   "metadata": {},
   "outputs": [],
   "source": [
    "import numpy as np\n",
    "import pandas as pd\n",
    "import matplotlib.pyplot as plt\n",
    "import seaborn as sns\n",
    "%matplotlib inline"
   ]
  },
  {
   "cell_type": "markdown",
   "id": "1cd6252a",
   "metadata": {},
   "source": [
    "# Reading the Dataset"
   ]
  },
  {
   "cell_type": "code",
   "execution_count": 3,
   "id": "def4e0d0",
   "metadata": {},
   "outputs": [],
   "source": [
    "data = pd.read_csv('Admission_Predict.csv')"
   ]
  },
  {
   "cell_type": "code",
   "execution_count": null,
   "id": "05d14e0b",
   "metadata": {},
   "outputs": [],
   "source": []
  }
 ],
 "metadata": {
  "kernelspec": {
   "display_name": "Python 3 (ipykernel)",
   "language": "python",
   "name": "python3"
  },
  "language_info": {
   "codemirror_mode": {
    "name": "ipython",
    "version": 3
   },
   "file_extension": ".py",
   "mimetype": "text/x-python",
   "name": "python",
   "nbconvert_exporter": "python",
   "pygments_lexer": "ipython3",
   "version": "3.9.12"
  }
 },
 "nbformat": 4,
 "nbformat_minor": 5
}
